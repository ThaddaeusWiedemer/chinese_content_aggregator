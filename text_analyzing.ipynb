{
 "cells": [
  {
   "cell_type": "markdown",
   "metadata": {},
   "source": [
    "# get the anki deck in python"
   ]
  },
  {
   "cell_type": "code",
   "execution_count": 46,
   "metadata": {},
   "outputs": [
    {
     "name": "stderr",
     "output_type": "stream",
     "text": [
      "INFO: Loaded db from D:\\GitHub\\chinese_content_aggregator\\collection.anki2\n",
      "INFO:AnkiPandas:Loaded db from D:\\GitHub\\chinese_content_aggregator\\collection.anki2\n"
     ]
    }
   ],
   "source": [
    "from ankipandas import Collection\n",
    "import pandas as pd\n",
    "\n",
    "# import anki collection using ankipandas\n",
    "col = Collection('D:\\\\GitHub')\n",
    "\n",
    "# extract a pandas dataframe with the columns 'hanzi' and 'interval'\n",
    "mynotes = col.cards.loc[col.cards['cord'] == 0].reset_index()[['nid', 'civl']]\n",
    "hanzi = [col.notes.loc[nid]['nflds'][0] for nid in mynotes['nid']]\n",
    "myhanzi = pd.DataFrame(list(zip(hanzi, mynotes['civl'])), columns=['hanzi', 'interval']) "
   ]
  },
  {
   "cell_type": "markdown",
   "metadata": {},
   "source": [
    "# define the text"
   ]
  },
  {
   "cell_type": "code",
   "execution_count": 154,
   "metadata": {},
   "outputs": [],
   "source": [
    "text = '家明朝是中國歷史上最後一個由漢人建立的朝代，歷經十二世、十六位皇帝，國祚共276年。1368年，朱元璋扫灭陈友谅、張士誠和方国珍等群雄勢力后在应天府登基。永乐十九年明成祖朱棣遷都至順天府。明朝初期，经过朱元璋的休养生息，国力迅速恢复。至成祖朱棣时期，开疆拓土，又派遣鄭和七下西洋，国势达到顶峰。英宗和景泰帝時期，经過土木堡之变国力中衰。世宗时期，引发大礼议之争，清除宦官和权臣势力后总揽朝纲，实现嘉靖中兴。嘉靖在位后期任用胡宗宪和俞大猷等将领平定东南沿海的倭患。之后经过隆庆新政和万历中兴国力得到恢复，神宗中期，经过万历三大征平定内忧外患，然而因国本之争及东林党争造成晚明政治混乱。至明熹宗天启年间魏忠贤阉党祸乱朝纲，至明思宗即位後铲除阉党，然而因崇祯的决策失误以及内忧外患，明朝最终亡于李自成，隨後吴三桂倒戈相向，满清入主中原。1644年，崇祯帝自缢於北京煤山，後繼南明與明鄭政權延续数十年，直到清朝进入台湾方止。'"
   ]
  },
  {
   "cell_type": "markdown",
   "metadata": {},
   "source": [
    "# evaluate text"
   ]
  },
  {
   "cell_type": "code",
   "execution_count": 173,
   "metadata": {},
   "outputs": [
    {
     "data": {
      "text/markdown": [
       "<span style=\"background-color: #99ff99\">家</span><span style=\"background-color: #ff9999\">明</span><span style=\"background-color: #ff9999\">朝</span><span style=\"background-color: #99ff99\">是</span><span style=\"background-color: #ff9999\">中</span><span style=\"background-color: #ff9999\">國</span><span style=\"background-color: #ff9999\">歷</span><span style=\"background-color: #ff9999\">史</span><span style=\"background-color: #99ff99\">上</span><span style=\"background-color: #99ff99\">最</span><span style=\"background-color: #ff9999\">後</span><span style=\"background-color: #99ff99\">一</span><span style=\"background-color: #ff9999\">個</span><span style=\"background-color: #ff9999\">由</span><span style=\"background-color: #ff9999\">漢</span><span style=\"background-color: #99ff99\">人</span><span style=\"background-color: #ff9999\">建</span><span style=\"background-color: #99ff99\">立</span><span style=\"background-color: #99ff99\">的</span><span style=\"background-color: #ff9999\">朝</span><span style=\"background-color: #99ff99\">代</span><span style=\"background-color: #ffffff\">，</span><span style=\"background-color: #ff9999\">歷</span><span style=\"background-color: #ff9999\">經</span><span style=\"background-color: #99ff99\">十</span><span style=\"background-color: #99ff99\">二</span><span style=\"background-color: #ff9999\">世</span><span style=\"background-color: #ffffff\">、</span><span style=\"background-color: #99ff99\">十</span><span style=\"background-color: #99ff99\">六</span><span style=\"background-color: #99ff99\">位</span><span style=\"background-color: #ff9999\">皇</span><span style=\"background-color: #ff9999\">帝</span><span style=\"background-color: #ffffff\">，</span><span style=\"background-color: #ff9999\">國</span><span style=\"background-color: #ff9999\">祚</span><span style=\"background-color: #ff9999\">共</span><span style=\"background-color: #ffffff\">2</span><span style=\"background-color: #ffffff\">7</span><span style=\"background-color: #ffffff\">6</span><span style=\"background-color: #99ff99\">年</span><span style=\"background-color: #ffffff\">。</span><span style=\"background-color: #ffffff\">1</span><span style=\"background-color: #ffffff\">3</span><span style=\"background-color: #ffffff\">6</span><span style=\"background-color: #ffffff\">8</span><span style=\"background-color: #99ff99\">年</span><span style=\"background-color: #ffffff\">，</span><span style=\"background-color: #ff9999\">朱</span><span style=\"background-color: #99ff99\">元</span><span style=\"background-color: #ff9999\">璋</span><span style=\"background-color: #99ff99\">扫</span><span style=\"background-color: #ff9999\">灭</span><span style=\"background-color: #ff9999\">陈</span><span style=\"background-color: #ff9999\">友</span><span style=\"background-color: #ff9999\">谅</span><span style=\"background-color: #ffffff\">、</span><span style=\"background-color: #ff9999\">張</span><span style=\"background-color: #99ff99\">士</span><span style=\"background-color: #ff9999\">誠</span><span style=\"background-color: #99ff99\">和</span><span style=\"background-color: #99ff99\">方</span><span style=\"background-color: #ff9999\">国</span><span style=\"background-color: #ff9999\">珍</span><span style=\"background-color: #99ff99\">等</span><span style=\"background-color: #ff9999\">群</span><span style=\"background-color: #ff9999\">雄</span><span style=\"background-color: #ff9999\">勢</span><span style=\"background-color: #99ff99\">力</span><span style=\"background-color: #99ff99\">后</span><span style=\"background-color: #99ff99\">在</span><span style=\"background-color: #99ff99\">应</span><span style=\"background-color: #ff9999\">天</span><span style=\"background-color: #ffff99\">府</span><span style=\"background-color: #ff9999\">登</span><span style=\"background-color: #ff9999\">基</span><span style=\"background-color: #ffffff\">。</span><span style=\"background-color: #ff9999\">永</span><span style=\"background-color: #99ff99\">乐</span><span style=\"background-color: #99ff99\">十</span><span style=\"background-color: #99ff99\">九</span><span style=\"background-color: #99ff99\">年</span><span style=\"background-color: #ff9999\">明</span><span style=\"background-color: #ff9999\">成</span><span style=\"background-color: #ff9999\">祖</span><span style=\"background-color: #ff9999\">朱</span><span style=\"background-color: #ff9999\">棣</span><span style=\"background-color: #ff9999\">遷</span><span style=\"background-color: #99ff99\">都</span><span style=\"background-color: #ff9999\">至</span><span style=\"background-color: #ff9999\">順</span><span style=\"background-color: #ff9999\">天</span><span style=\"background-color: #ffff99\">府</span><span style=\"background-color: #ffffff\">。</span><span style=\"background-color: #ff9999\">明</span><span style=\"background-color: #ff9999\">朝</span><span style=\"background-color: #ff9999\">初</span><span style=\"background-color: #ff9999\">期</span><span style=\"background-color: #ffffff\">，</span><span style=\"background-color: #99ff99\">经过</span><span style=\"background-color: #ff9999\">朱</span><span style=\"background-color: #99ff99\">元</span><span style=\"background-color: #ff9999\">璋</span><span style=\"background-color: #99ff99\">的</span><span style=\"background-color: #ff9999\">休</span><span style=\"background-color: #99ff99\">养</span><span style=\"background-color: #99ff99\">生</span><span style=\"background-color: #ff9999\">息</span><span style=\"background-color: #ffffff\">，</span><span style=\"background-color: #ff9999\">国</span><span style=\"background-color: #99ff99\">力</span><span style=\"background-color: #ff9999\">迅</span><span style=\"background-color: #ff9999\">速</span><span style=\"background-color: #ffff99\">恢复</span><span style=\"background-color: #ffffff\">。</span><span style=\"background-color: #ff9999\">至</span><span style=\"background-color: #ff9999\">成</span><span style=\"background-color: #ff9999\">祖</span><span style=\"background-color: #ff9999\">朱</span><span style=\"background-color: #ff9999\">棣</span><span style=\"background-color: #ff9999\">时</span><span style=\"background-color: #ff9999\">期</span><span style=\"background-color: #ffffff\">，</span><span style=\"background-color: #99ff99\">开</span><span style=\"background-color: #ff9999\">疆</span><span style=\"background-color: #ff9999\">拓</span><span style=\"background-color: #99ff99\">土</span><span style=\"background-color: #ffffff\">，</span><span style=\"background-color: #99ff99\">又</span><span style=\"background-color: #ff9999\">派</span><span style=\"background-color: #ff9999\">遣</span><span style=\"background-color: #ff9999\">鄭</span><span style=\"background-color: #99ff99\">和</span><span style=\"background-color: #99ff99\">七</span><span style=\"background-color: #99ff99\">下</span><span style=\"background-color: #99ff99\">西</span><span style=\"background-color: #ff9999\">洋</span><span style=\"background-color: #ffffff\">，</span><span style=\"background-color: #ff9999\">国</span><span style=\"background-color: #ff9999\">势</span><span style=\"background-color: #ff9999\">达</span><span style=\"background-color: #99ff99\">到</span><span style=\"background-color: #ff9999\">顶</span><span style=\"background-color: #ff9999\">峰</span><span style=\"background-color: #ffffff\">。</span><span style=\"background-color: #ff9999\">英</span><span style=\"background-color: #ffff99\">宗</span><span style=\"background-color: #99ff99\">和</span><span style=\"background-color: #ff9999\">景</span><span style=\"background-color: #ff9999\">泰</span><span style=\"background-color: #ff9999\">帝</span><span style=\"background-color: #ff9999\">時</span><span style=\"background-color: #ff9999\">期</span><span style=\"background-color: #ffffff\">，</span><span style=\"background-color: #ff9999\">经</span><span style=\"background-color: #ff9999\">過</span><span style=\"background-color: #99ff99\">土</span><span style=\"background-color: #99ff99\">木</span><span style=\"background-color: #ff9999\">堡</span><span style=\"background-color: #99ff99\">之</span><span style=\"background-color: #99ff99\">变</span><span style=\"background-color: #ff9999\">国</span><span style=\"background-color: #99ff99\">力</span><span style=\"background-color: #ff9999\">中</span><span style=\"background-color: #ff9999\">衰</span><span style=\"background-color: #ffffff\">。</span><span style=\"background-color: #ff9999\">世</span><span style=\"background-color: #ffff99\">宗</span><span style=\"background-color: #ff9999\">时</span><span style=\"background-color: #ff9999\">期</span><span style=\"background-color: #ffffff\">，</span><span style=\"background-color: #ff9999\">引</span><span style=\"background-color: #99ff99\">发</span><span style=\"background-color: #99ff99\">大</span><span style=\"background-color: #ff9999\">礼</span><span style=\"background-color: #ff9999\">议</span><span style=\"background-color: #99ff99\">之</span><span style=\"background-color: #99ff99\">争</span><span style=\"background-color: #ffffff\">，</span><span style=\"background-color: #ff9999\">清</span><span style=\"background-color: #ff9999\">除</span><span style=\"background-color: #ff9999\">宦</span><span style=\"background-color: #ff9999\">官</span><span style=\"background-color: #99ff99\">和</span><span style=\"background-color: #ff9999\">权</span><span style=\"background-color: #ff9999\">臣</span><span style=\"background-color: #ff9999\">势</span><span style=\"background-color: #99ff99\">力</span><span style=\"background-color: #99ff99\">后</span><span style=\"background-color: #ff9999\">总</span><span style=\"background-color: #ff9999\">揽</span><span style=\"background-color: #ff9999\">朝</span><span style=\"background-color: #ff9999\">纲</span><span style=\"background-color: #ffffff\">，</span><span style=\"background-color: #99ff99\">实</span><span style=\"background-color: #99ff99\">现</span><span style=\"background-color: #ff9999\">嘉</span><span style=\"background-color: #ff9999\">靖</span><span style=\"background-color: #ff9999\">中</span><span style=\"background-color: #ff9999\">兴</span><span style=\"background-color: #ffffff\">。</span><span style=\"background-color: #ff9999\">嘉</span><span style=\"background-color: #ff9999\">靖</span><span style=\"background-color: #99ff99\">在</span><span style=\"background-color: #99ff99\">位</span><span style=\"background-color: #99ff99\">后</span><span style=\"background-color: #ff9999\">期</span><span style=\"background-color: #ff9999\">任</span><span style=\"background-color: #99ff99\">用</span><span style=\"background-color: #ff9999\">胡</span><span style=\"background-color: #ffff99\">宗</span><span style=\"background-color: #ff9999\">宪</span><span style=\"background-color: #99ff99\">和</span><span style=\"background-color: #ff9999\">俞</span><span style=\"background-color: #99ff99\">大</span><span style=\"background-color: #ff9999\">猷</span><span style=\"background-color: #99ff99\">等</span><span style=\"background-color: #ffff99\">将</span><span style=\"background-color: #ffff99\">领</span><span style=\"background-color: #99ff99\">平</span><span style=\"background-color: #99ff99\">定</span><span style=\"background-color: #99ff99\">东</span><span style=\"background-color: #99ff99\">南</span><span style=\"background-color: #ff9999\">沿</span><span style=\"background-color: #ff9999\">海</span><span style=\"background-color: #99ff99\">的</span><span style=\"background-color: #ff9999\">倭</span><span style=\"background-color: #ff9999\">患</span><span style=\"background-color: #ffffff\">。</span><span style=\"background-color: #99ff99\">之</span><span style=\"background-color: #99ff99\">后</span><span style=\"background-color: #99ff99\">经过</span><span style=\"background-color: #ff9999\">隆</span><span style=\"background-color: #ff9999\">庆</span><span style=\"background-color: #99ff99\">新</span><span style=\"background-color: #ff9999\">政</span><span style=\"background-color: #99ff99\">和</span><span style=\"background-color: #99ff99\">万</span><span style=\"background-color: #ff9999\">历</span><span style=\"background-color: #ff9999\">中</span><span style=\"background-color: #ff9999\">兴</span><span style=\"background-color: #ff9999\">国</span><span style=\"background-color: #99ff99\">力</span><span style=\"background-color: #99ff99\">得到</span><span style=\"background-color: #ffff99\">恢复</span><span style=\"background-color: #ffffff\">，</span><span style=\"background-color: #ff9999\">神</span><span style=\"background-color: #ffff99\">宗</span><span style=\"background-color: #ff9999\">中</span><span style=\"background-color: #ff9999\">期</span><span style=\"background-color: #ffffff\">，</span><span style=\"background-color: #99ff99\">经过</span><span style=\"background-color: #99ff99\">万</span><span style=\"background-color: #ff9999\">历</span><span style=\"background-color: #99ff99\">三</span><span style=\"background-color: #99ff99\">大</span><span style=\"background-color: #ff9999\">征</span><span style=\"background-color: #99ff99\">平</span><span style=\"background-color: #99ff99\">定</span><span style=\"background-color: #ff9999\">内</span><span style=\"background-color: #ff9999\">忧</span><span style=\"background-color: #99ff99\">外</span><span style=\"background-color: #ff9999\">患</span><span style=\"background-color: #ffffff\">，</span><span style=\"background-color: #ff9999\">然</span><span style=\"background-color: #ff9999\">而</span><span style=\"background-color: #ff9999\">因</span><span style=\"background-color: #ff9999\">国</span><span style=\"background-color: #99ff99\">本</span><span style=\"background-color: #99ff99\">之</span><span style=\"background-color: #99ff99\">争</span><span style=\"background-color: #99ff99\">及</span><span style=\"background-color: #99ff99\">东</span><span style=\"background-color: #ff9999\">林</span><span style=\"background-color: #ff9999\">党</span><span style=\"background-color: #99ff99\">争</span><span style=\"background-color: #ffff99\">造成</span><span style=\"background-color: #99ff99\">晚</span><span style=\"background-color: #ff9999\">明</span><span style=\"background-color: #99ff99\">政治</span><span style=\"background-color: #ff9999\">混</span><span style=\"background-color: #ffff99\">乱</span><span style=\"background-color: #ffffff\">。</span><span style=\"background-color: #ff9999\">至</span><span style=\"background-color: #ff9999\">明</span><span style=\"background-color: #ff9999\">熹</span><span style=\"background-color: #ffff99\">宗</span><span style=\"background-color: #ff9999\">天</span><span style=\"background-color: #ff9999\">启</span><span style=\"background-color: #99ff99\">年</span><span style=\"background-color: #99ff99\">间</span><span style=\"background-color: #ff9999\">魏</span><span style=\"background-color: #ff9999\">忠</span><span style=\"background-color: #ff9999\">贤</span><span style=\"background-color: #ff9999\">阉</span><span style=\"background-color: #ff9999\">党</span><span style=\"background-color: #ff9999\">祸</span><span style=\"background-color: #ffff99\">乱</span><span style=\"background-color: #ff9999\">朝</span><span style=\"background-color: #ff9999\">纲</span><span style=\"background-color: #ffffff\">，</span><span style=\"background-color: #ff9999\">至</span><span style=\"background-color: #ff9999\">明</span><span style=\"background-color: #ff9999\">思</span><span style=\"background-color: #ffff99\">宗</span><span style=\"background-color: #ff9999\">即</span><span style=\"background-color: #99ff99\">位</span><span style=\"background-color: #ff9999\">後</span><span style=\"background-color: #ff9999\">铲</span><span style=\"background-color: #ff9999\">除</span><span style=\"background-color: #ff9999\">阉</span><span style=\"background-color: #ff9999\">党</span><span style=\"background-color: #ffffff\">，</span><span style=\"background-color: #ff9999\">然</span><span style=\"background-color: #ff9999\">而</span><span style=\"background-color: #ff9999\">因</span><span style=\"background-color: #ff9999\">崇</span><span style=\"background-color: #ff9999\">祯</span><span style=\"background-color: #99ff99\">的</span><span style=\"background-color: #99ff99\">决</span><span style=\"background-color: #ff9999\">策</span><span style=\"background-color: #99ff99\">失</span><span style=\"background-color: #ff9999\">误</span><span style=\"background-color: #ff9999\">以</span><span style=\"background-color: #99ff99\">及</span><span style=\"background-color: #ff9999\">内</span><span style=\"background-color: #ff9999\">忧</span><span style=\"background-color: #99ff99\">外</span><span style=\"background-color: #ff9999\">患</span><span style=\"background-color: #ffffff\">，</span><span style=\"background-color: #ff9999\">明</span><span style=\"background-color: #ff9999\">朝</span><span style=\"background-color: #99ff99\">最</span><span style=\"background-color: #ff9999\">终</span><span style=\"background-color: #ff9999\">亡</span><span style=\"background-color: #ff9999\">于</span><span style=\"background-color: #ff9999\">李</span><span style=\"background-color: #ff9999\">自</span><span style=\"background-color: #ff9999\">成</span><span style=\"background-color: #ffffff\">，</span><span style=\"background-color: #ff9999\">隨</span><span style=\"background-color: #ff9999\">後</span><span style=\"background-color: #ff9999\">吴</span><span style=\"background-color: #99ff99\">三</span><span style=\"background-color: #ff9999\">桂</span><span style=\"background-color: #99ff99\">倒</span><span style=\"background-color: #99ff99\">戈</span><span style=\"background-color: #ff9999\">相</span><span style=\"background-color: #99ff99\">向</span><span style=\"background-color: #ffffff\">，</span><span style=\"background-color: #ff9999\">满</span><span style=\"background-color: #ff9999\">清</span><span style=\"background-color: #ff9999\">入</span><span style=\"background-color: #ff9999\">主</span><span style=\"background-color: #ff9999\">中</span><span style=\"background-color: #ff9999\">原</span><span style=\"background-color: #ffffff\">。</span><span style=\"background-color: #ffffff\">1</span><span style=\"background-color: #ffffff\">6</span><span style=\"background-color: #ffffff\">4</span><span style=\"background-color: #ffffff\">4</span><span style=\"background-color: #99ff99\">年</span><span style=\"background-color: #ffffff\">，</span><span style=\"background-color: #ff9999\">崇</span><span style=\"background-color: #ff9999\">祯</span><span style=\"background-color: #ff9999\">帝</span><span style=\"background-color: #ff9999\">自</span><span style=\"background-color: #ff9999\">缢</span><span style=\"background-color: #ff9999\">於</span><span style=\"background-color: #99ff99\">北京</span><span style=\"background-color: #ff9999\">煤</span><span style=\"background-color: #99ff99\">山</span><span style=\"background-color: #ffffff\">，</span><span style=\"background-color: #ff9999\">後</span><span style=\"background-color: #ff9999\">繼</span><span style=\"background-color: #99ff99\">南</span><span style=\"background-color: #ff9999\">明</span><span style=\"background-color: #ff9999\">與</span><span style=\"background-color: #ff9999\">明</span><span style=\"background-color: #ff9999\">鄭</span><span style=\"background-color: #ff9999\">政</span><span style=\"background-color: #ff9999\">權</span><span style=\"background-color: #ff9999\">延</span><span style=\"background-color: #ff9999\">续</span><span style=\"background-color: #99ff99\">数</span><span style=\"background-color: #99ff99\">十</span><span style=\"background-color: #99ff99\">年</span><span style=\"background-color: #ffffff\">，</span><span style=\"background-color: #99ff99\">直到</span><span style=\"background-color: #ff9999\">清</span><span style=\"background-color: #ff9999\">朝</span><span style=\"background-color: #99ff99\">进</span><span style=\"background-color: #ff9999\">入</span><span style=\"background-color: #ffff99\">台湾</span><span style=\"background-color: #99ff99\">方</span><span style=\"background-color: #99ff99\">止</span><span style=\"background-color: #ffffff\">。</span>"
      ],
      "text/plain": [
       "<IPython.core.display.Markdown object>"
      ]
     },
     "metadata": {},
     "output_type": "display_data"
    }
   ],
   "source": [
    "from IPython.display import Markdown\n",
    "pos = 0\n",
    "\n",
    "ignore = 'abcdefghijklmnopqrstuvwxyzABCDEFGHIJKLMNOPQRSTUVWXYZ0123456789.:,;-_#\\'*+~?!\\\"§$%&/()，、。'\n",
    "\n",
    "def select_window(text, pos, length):\n",
    "    window = text[pos:pos + length]\n",
    "    for i in range(length):\n",
    "        if window[i] in ignore:\n",
    "            return select_window(text, pos, length - 1)\n",
    "    if window in list(myhanzi['hanzi']):\n",
    "        if int(myhanzi.loc[myhanzi['hanzi'] == window]['interval']) > 21:\n",
    "            # word is considered old in Anki, mark as green\n",
    "            return window, 2\n",
    "        else:\n",
    "            # word is considered yound in Anki, mark as yellow\n",
    "            return window, 1\n",
    "    else:\n",
    "        if length > 1:\n",
    "            return select_window(text, pos, length - 1)\n",
    "        else:\n",
    "            # word is unknown, mark as red\n",
    "            return window, 0\n",
    "\n",
    "out = ''\n",
    "while pos < len(text):\n",
    "    if text[pos] in ignore:\n",
    "        # character is either roman script, number or punctuation. ignore\n",
    "        out += '<span style=\"background-color: #ffffff\">{}</span>'.format(text[pos])\n",
    "        pos += 1\n",
    "    else:\n",
    "        window, value = select_window(text, pos, 4)\n",
    "        if value == 0:\n",
    "            out += '<span style=\"background-color: #ff9999\">{}</span>'.format(window)\n",
    "        elif value == 1:\n",
    "            out += '<span style=\"background-color: #ffff99\">{}</span>'.format(window)\n",
    "        else:\n",
    "            out += '<span style=\"background-color: #99ff99\">{}</span>'.format(window)\n",
    "        pos += len(window)\n",
    "#print('\\n\\n')\n",
    "display(Markdown(out))"
   ]
  }
 ],
 "metadata": {
  "kernelspec": {
   "display_name": "Python 3",
   "language": "python",
   "name": "python3"
  },
  "language_info": {
   "codemirror_mode": {
    "name": "ipython",
    "version": 3
   },
   "file_extension": ".py",
   "mimetype": "text/x-python",
   "name": "python",
   "nbconvert_exporter": "python",
   "pygments_lexer": "ipython3",
   "version": "3.7.3"
  }
 },
 "nbformat": 4,
 "nbformat_minor": 2
}
