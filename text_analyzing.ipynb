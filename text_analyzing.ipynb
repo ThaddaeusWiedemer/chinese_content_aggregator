{
 "cells": [
  {
   "cell_type": "markdown",
   "metadata": {},
   "source": [
    "# get the anki deck in python"
   ]
  },
  {
   "cell_type": "code",
   "execution_count": 46,
   "metadata": {},
   "outputs": [
    {
     "name": "stderr",
     "output_type": "stream",
     "text": [
      "INFO: Loaded db from D:\\GitHub\\chinese_content_aggregator\\collection.anki2\n",
      "INFO:AnkiPandas:Loaded db from D:\\GitHub\\chinese_content_aggregator\\collection.anki2\n"
     ]
    }
   ],
   "source": [
    "from ankipandas import Collection\n",
    "import pandas as pd\n",
    "\n",
    "# import anki collection using ankipandas\n",
    "col = Collection('D:\\\\GitHub')\n",
    "\n",
    "# extract a pandas dataframe with the columns 'hanzi' and 'interval'\n",
    "mynotes = col.cards.loc[col.cards['cord'] == 0].reset_index()[['nid', 'civl']]\n",
    "hanzi = [col.notes.loc[nid]['nflds'][0] for nid in mynotes['nid']]\n",
    "myhanzi = pd.DataFrame(list(zip(hanzi, mynotes['civl'])), columns=['hanzi', 'interval']) "
   ]
  },
  {
   "cell_type": "markdown",
   "metadata": {},
   "source": [
    "# define the text"
   ]
  },
  {
   "cell_type": "code",
   "execution_count": 181,
   "metadata": {},
   "outputs": [],
   "source": [
    "text = '在德国一般每个家庭应该自己分类他们的垃圾。各种垃圾有其垃圾桶或者处理方法。这些垃圾桶和处理方法在每个德国联邦州不一样，所以下面拿把福州来说. 每个家庭有一个黄色的垃圾桶或者用黄色的垃圾袋收集塑料、金属和包装材料。黄垃圾桶里的都要回收（不巧，大部分塑料垃圾不会被回收利用，而是被直接焚烧或者出口到别的国家）。玻璃瓶一般要回给买的商店，且每个城区也有玻璃垃圾桶。纸张也有专门的垃圾桶。另外每个家庭有一个紫色垃圾桶放废弃的食物、植物等。旧衣服、废弃的电子产品、电池、光盘、电灯、家具、软木都在城区有各自的垃圾桶。产品和材料没有自己垃圾桶可以被收集的“剩余垃圾桶”。'"
   ]
  },
  {
   "cell_type": "markdown",
   "metadata": {},
   "source": [
    "# evaluate text"
   ]
  },
  {
   "cell_type": "code",
   "execution_count": 184,
   "metadata": {},
   "outputs": [
    {
     "data": {
      "text/markdown": [
       "<span style=\"background-color: #ffffff\"> </span><span style=\"background-color: #ffffff\"> </span><span style=\"background-color: #99ff99\">在</span><span style=\"background-color: #ffffff\"> </span><span style=\"background-color: #99ff99\">德国</span><span style=\"background-color: #99ff99\">一般</span><span style=\"background-color: #99ff99\">每</span><span style=\"background-color: #99ff99\">个</span><span style=\"background-color: #99ff99\">家</span><span style=\"background-color: #ff9999\">庭</span><span style=\"background-color: #99ff99\">应该</span><span style=\"background-color: #99ff99\">自己</span><span style=\"background-color: #99ff99\">分</span><span style=\"background-color: #ffff99\">类</span><span style=\"background-color: #99ff99\">他</span><span style=\"background-color: #99ff99\">们</span><span style=\"background-color: #99ff99\">的</span><span style=\"background-color: #ffff99\">垃圾</span><span style=\"background-color: #ffffff\">。</span><span style=\"background-color: #ffff99\">各种</span><span style=\"background-color: #ffff99\">垃圾</span><span style=\"background-color: #99ff99\">有</span><span style=\"background-color: #99ff99\">其</span><span style=\"background-color: #ffff99\">垃圾桶</span><span style=\"background-color: #99ff99\">或者</span><span style=\"background-color: #ff9999\">处</span><span style=\"background-color: #ff9999\">理</span><span style=\"background-color: #99ff99\">方法</span><span style=\"background-color: #ffffff\">。</span><span style=\"background-color: #99ff99\">这些</span><span style=\"background-color: #ffff99\">垃圾桶</span><span style=\"background-color: #99ff99\">和</span><span style=\"background-color: #ff9999\">处</span><span style=\"background-color: #ff9999\">理</span><span style=\"background-color: #99ff99\">方法</span><span style=\"background-color: #99ff99\">在</span><span style=\"background-color: #99ff99\">每</span><span style=\"background-color: #99ff99\">个</span><span style=\"background-color: #99ff99\">德国</span><span style=\"background-color: #ff9999\">联</span><span style=\"background-color: #ff9999\">邦</span><span style=\"background-color: #ff9999\">州</span><span style=\"background-color: #99ff99\">不</span><span style=\"background-color: #99ff99\">一样</span><span style=\"background-color: #ffffff\">，</span><span style=\"background-color: #99ff99\">所以</span><span style=\"background-color: #99ff99\">下</span><span style=\"background-color: #99ff99\">面</span><span style=\"background-color: #99ff99\">拿</span><span style=\"background-color: #99ff99\">把</span><span style=\"background-color: #ff9999\">福</span><span style=\"background-color: #ff9999\">州</span><span style=\"background-color: #99ff99\">来</span><span style=\"background-color: #99ff99\">说</span><span style=\"background-color: #ffffff\">.</span><span style=\"background-color: #ffffff\"> </span><span style=\"background-color: #99ff99\">每</span><span style=\"background-color: #99ff99\">个</span><span style=\"background-color: #99ff99\">家</span><span style=\"background-color: #ff9999\">庭</span><span style=\"background-color: #99ff99\">有</span><span style=\"background-color: #99ff99\">一</span><span style=\"background-color: #99ff99\">个</span><span style=\"background-color: #99ff99\">黄</span><span style=\"background-color: #ff9999\">色</span><span style=\"background-color: #99ff99\">的</span><span style=\"background-color: #ffff99\">垃圾桶</span><span style=\"background-color: #99ff99\">或者</span><span style=\"background-color: #99ff99\">用</span><span style=\"background-color: #99ff99\">黄</span><span style=\"background-color: #ff9999\">色</span><span style=\"background-color: #99ff99\">的</span><span style=\"background-color: #ffff99\">垃圾</span><span style=\"background-color: #ff9999\">袋</span><span style=\"background-color: #ffff99\">收集</span><span style=\"background-color: #ffff99\">塑料</span><span style=\"background-color: #ffffff\">、</span><span style=\"background-color: #99ff99\">金</span><span style=\"background-color: #99ff99\">属</span><span style=\"background-color: #99ff99\">和</span><span style=\"background-color: #99ff99\">包</span><span style=\"background-color: #99ff99\">装</span><span style=\"background-color: #99ff99\">材料</span><span style=\"background-color: #ffffff\">。</span><span style=\"background-color: #99ff99\">黄</span><span style=\"background-color: #ffff99\">垃圾桶</span><span style=\"background-color: #99ff99\">里</span><span style=\"background-color: #99ff99\">的</span><span style=\"background-color: #99ff99\">都</span><span style=\"background-color: #99ff99\">要</span><span style=\"background-color: #ffff99\">回收</span><span style=\"background-color: #ffffff\">（</span><span style=\"background-color: #99ff99\">不</span><span style=\"background-color: #ff9999\">巧</span><span style=\"background-color: #ffffff\">，</span><span style=\"background-color: #99ff99\">大</span><span style=\"background-color: #99ff99\">部分</span><span style=\"background-color: #ffff99\">塑料</span><span style=\"background-color: #ffff99\">垃圾</span><span style=\"background-color: #99ff99\">不</span><span style=\"background-color: #99ff99\">会</span><span style=\"background-color: #99ff99\">被</span><span style=\"background-color: #ffff99\">回收</span><span style=\"background-color: #ff9999\">利</span><span style=\"background-color: #99ff99\">用</span><span style=\"background-color: #ffffff\">，</span><span style=\"background-color: #ff9999\">而</span><span style=\"background-color: #99ff99\">是</span><span style=\"background-color: #99ff99\">被</span><span style=\"background-color: #ff9999\">直</span><span style=\"background-color: #99ff99\">接</span><span style=\"background-color: #ff9999\">焚</span><span style=\"background-color: #99ff99\">烧</span><span style=\"background-color: #99ff99\">或者</span><span style=\"background-color: #99ff99\">出口</span><span style=\"background-color: #99ff99\">到</span><span style=\"background-color: #99ff99\">别</span><span style=\"background-color: #99ff99\">的</span><span style=\"background-color: #99ff99\">国家</span><span style=\"background-color: #ffffff\">）</span><span style=\"background-color: #ffffff\">。</span><span style=\"background-color: #ffff99\">玻璃</span><span style=\"background-color: #ffff99\">瓶</span><span style=\"background-color: #99ff99\">一般</span><span style=\"background-color: #99ff99\">要</span><span style=\"background-color: #99ff99\">回</span><span style=\"background-color: #99ff99\">给</span><span style=\"background-color: #99ff99\">买</span><span style=\"background-color: #99ff99\">的</span><span style=\"background-color: #99ff99\">商店</span><span style=\"background-color: #ffffff\">，</span><span style=\"background-color: #ff9999\">且</span><span style=\"background-color: #99ff99\">每</span><span style=\"background-color: #99ff99\">个</span><span style=\"background-color: #ff9999\">城</span><span style=\"background-color: #ff9999\">区</span><span style=\"background-color: #99ff99\">也</span><span style=\"background-color: #99ff99\">有</span><span style=\"background-color: #ffff99\">玻璃</span><span style=\"background-color: #ffff99\">垃圾桶</span><span style=\"background-color: #ffffff\">。</span><span style=\"background-color: #ffff99\">纸张</span><span style=\"background-color: #99ff99\">也</span><span style=\"background-color: #99ff99\">有</span><span style=\"background-color: #99ff99\">专门</span><span style=\"background-color: #99ff99\">的</span><span style=\"background-color: #ffff99\">垃圾桶</span><span style=\"background-color: #ffffff\">。</span><span style=\"background-color: #ffff99\">另外</span><span style=\"background-color: #99ff99\">每</span><span style=\"background-color: #99ff99\">个</span><span style=\"background-color: #99ff99\">家</span><span style=\"background-color: #ff9999\">庭</span><span style=\"background-color: #99ff99\">有</span><span style=\"background-color: #99ff99\">一</span><span style=\"background-color: #99ff99\">个</span><span style=\"background-color: #99ff99\">紫</span><span style=\"background-color: #ff9999\">色</span><span style=\"background-color: #ffff99\">垃圾桶</span><span style=\"background-color: #99ff99\">放</span><span style=\"background-color: #ffff99\">废弃</span><span style=\"background-color: #99ff99\">的</span><span style=\"background-color: #99ff99\">食</span><span style=\"background-color: #ff9999\">物</span><span style=\"background-color: #ffffff\">、</span><span style=\"background-color: #ff9999\">植</span><span style=\"background-color: #ff9999\">物</span><span style=\"background-color: #99ff99\">等</span><span style=\"background-color: #ffffff\">。</span><span style=\"background-color: #99ff99\">旧</span><span style=\"background-color: #99ff99\">衣服</span><span style=\"background-color: #ffffff\">、</span><span style=\"background-color: #ffff99\">废弃</span><span style=\"background-color: #99ff99\">的</span><span style=\"background-color: #ff9999\">电</span><span style=\"background-color: #99ff99\">子</span><span style=\"background-color: #99ff99\">产品</span><span style=\"background-color: #ffffff\">、</span><span style=\"background-color: #ff9999\">电</span><span style=\"background-color: #ff9999\">池</span><span style=\"background-color: #ffffff\">、</span><span style=\"background-color: #99ff99\">光盘</span><span style=\"background-color: #ffffff\">、</span><span style=\"background-color: #ff9999\">电</span><span style=\"background-color: #99ff99\">灯</span><span style=\"background-color: #ffffff\">、</span><span style=\"background-color: #ffff99\">家具</span><span style=\"background-color: #ffffff\">、</span><span style=\"background-color: #ff9999\">软</span><span style=\"background-color: #99ff99\">木</span><span style=\"background-color: #99ff99\">都</span><span style=\"background-color: #99ff99\">在</span><span style=\"background-color: #ff9999\">城</span><span style=\"background-color: #ff9999\">区</span><span style=\"background-color: #99ff99\">有</span><span style=\"background-color: #ff9999\">各</span><span style=\"background-color: #ff9999\">自</span><span style=\"background-color: #99ff99\">的</span><span style=\"background-color: #ffff99\">垃圾桶</span><span style=\"background-color: #ffffff\">。</span><span style=\"background-color: #99ff99\">产品</span><span style=\"background-color: #99ff99\">和</span><span style=\"background-color: #99ff99\">材料</span><span style=\"background-color: #99ff99\">没有</span><span style=\"background-color: #99ff99\">自己</span><span style=\"background-color: #ffff99\">垃圾桶</span><span style=\"background-color: #99ff99\">可以</span><span style=\"background-color: #99ff99\">被</span><span style=\"background-color: #ffff99\">收集</span><span style=\"background-color: #99ff99\">的</span><span style=\"background-color: #ffffff\">“</span><span style=\"background-color: #ffff99\">剩余</span><span style=\"background-color: #ffff99\">垃圾桶</span><span style=\"background-color: #ffffff\">”</span><span style=\"background-color: #ffffff\">。</span>"
      ],
      "text/plain": [
       "<IPython.core.display.Markdown object>"
      ]
     },
     "metadata": {},
     "output_type": "display_data"
    }
   ],
   "source": [
    "from IPython.display import Markdown\n",
    "pos = 0\n",
    "\n",
    "ignore = 'abcdefghijklmnopqrstuvwxyzABCDEFGHIJKLMNOPQRSTUVWXYZ0123456789.:,;-_#\\'*+~?!\\\"§$%&/()，、。 （）“”'\n",
    "\n",
    "def select_window(text, pos, length):\n",
    "    window = text[pos:pos + length]\n",
    "    for i in range(length):\n",
    "        if window[i] in ignore:\n",
    "            return select_window(text, pos, length - 1)\n",
    "    if window in list(myhanzi['hanzi']):\n",
    "        if int(myhanzi.loc[myhanzi['hanzi'] == window]['interval']) > 21:\n",
    "            # word is considered old in Anki, mark as green\n",
    "            return window, 2\n",
    "        else:\n",
    "            # word is considered yound in Anki, mark as yellow\n",
    "            return window, 1\n",
    "    else:\n",
    "        if length > 1:\n",
    "            return select_window(text, pos, length - 1)\n",
    "        else:\n",
    "            # word is unknown, mark as red\n",
    "            return window, 0\n",
    "\n",
    "out = ''\n",
    "while pos < len(text):\n",
    "    if text[pos] in ignore:\n",
    "        # character is either roman script, number or punctuation. ignore\n",
    "        out += '<span style=\"background-color: #ffffff\">{}</span>'.format(text[pos])\n",
    "        pos += 1\n",
    "    else:\n",
    "        window, value = select_window(text, pos, 4)\n",
    "        if value == 0:\n",
    "            out += '<span style=\"background-color: #ff9999\">{}</span>'.format(window)\n",
    "        elif value == 1:\n",
    "            out += '<span style=\"background-color: #ffff99\">{}</span>'.format(window)\n",
    "        else:\n",
    "            out += '<span style=\"background-color: #99ff99\">{}</span>'.format(window)\n",
    "        pos += len(window)\n",
    "#print('\\n\\n')\n",
    "display(Markdown(out))"
   ]
  }
 ],
 "metadata": {
  "kernelspec": {
   "display_name": "Python 3",
   "language": "python",
   "name": "python3"
  },
  "language_info": {
   "codemirror_mode": {
    "name": "ipython",
    "version": 3
   },
   "file_extension": ".py",
   "mimetype": "text/x-python",
   "name": "python",
   "nbconvert_exporter": "python",
   "pygments_lexer": "ipython3",
   "version": "3.7.3"
  }
 },
 "nbformat": 4,
 "nbformat_minor": 2
}
